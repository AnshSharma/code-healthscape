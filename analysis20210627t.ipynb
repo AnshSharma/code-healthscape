{
 "cells": [
  {
   "cell_type": "code",
   "execution_count": 1,
   "metadata": {},
   "outputs": [
    {
     "data": {
      "text/html": [
       "        <script type=\"text/javascript\">\n",
       "        window.PlotlyConfig = {MathJaxConfig: 'local'};\n",
       "        if (window.MathJax) {MathJax.Hub.Config({SVG: {font: \"STIX-Web\"}});}\n",
       "        if (typeof require !== 'undefined') {\n",
       "        require.undef(\"plotly\");\n",
       "        requirejs.config({\n",
       "            paths: {\n",
       "                'plotly': ['https://cdn.plot.ly/plotly-2.1.0.min']\n",
       "            }\n",
       "        });\n",
       "        require(['plotly'], function(Plotly) {\n",
       "            window._Plotly = Plotly;\n",
       "        });\n",
       "        }\n",
       "        </script>\n",
       "        "
      ]
     },
     "metadata": {},
     "output_type": "display_data"
    }
   ],
   "source": [
    "import numpy as np\n",
    "import pandas as pd\n",
    "from tabulate import tabulate\n",
    "import ipywidgets as wg\n",
    "from IPython.display import display, clear_output\n",
    "from ipywidgets import interact, interact_manual\n",
    "import plotly.express as px\n",
    "\n",
    "# Display all cell outputs\n",
    "from IPython.core.interactiveshell import InteractiveShell\n",
    "InteractiveShell.ast_node_interactivity = 'all'\n",
    "\n",
    "from plotly.offline import iplot\n",
    "\n",
    "import cufflinks as cf\n",
    "cf.go_offline()"
   ]
  },
  {
   "cell_type": "code",
   "execution_count": 80,
   "metadata": {},
   "outputs": [],
   "source": [
    "df = pd.read_csv(\"analysis.csv\")"
   ]
  },
  {
   "cell_type": "code",
   "execution_count": 3,
   "metadata": {},
   "outputs": [
    {
     "name": "stdout",
     "output_type": "stream",
     "text": [
      "Dataframe loaded.\n"
     ]
    }
   ],
   "source": [
    "# b = df.memory_usage(index=True, deep=True).sum()\n",
    "print('Dataframe loaded.') \n",
    "\n",
    "import sys\n",
    "b = sys.getsizeof(df)"
   ]
  },
  {
   "cell_type": "code",
   "execution_count": 4,
   "metadata": {},
   "outputs": [
    {
     "name": "stdout",
     "output_type": "stream",
     "text": [
      "Processed 75 entries in table.\n",
      "Mem cache: 27.51 KB\n"
     ]
    }
   ],
   "source": [
    "print('Processed ' + str(len(df)) + ' entries in table.')\n",
    "\n",
    "import math\n",
    "def convert_size(size_bytes):\n",
    "   if size_bytes == 0:\n",
    "       return \"0B\"\n",
    "   size_name = (\"B\", \"KB\", \"MB\", \"GB\", \"TB\", \"PB\", \"EB\", \"ZB\", \"YB\")\n",
    "   i = int(math.floor(math.log(size_bytes, 1024)))\n",
    "   p = math.pow(1024, i)\n",
    "   s = round(size_bytes / p, 2)\n",
    "   return \"%s %s\" % (s, size_name[i])\n",
    "\n",
    "print('Mem cache: ' + str(convert_size(b))) "
   ]
  },
  {
   "cell_type": "code",
   "execution_count": 79,
   "metadata": {
    "scrolled": false
   },
   "outputs": [
    {
     "data": {
      "application/vnd.jupyter.widget-view+json": {
       "model_id": "7307b9dd7f8c4f59b472f885befa982d",
       "version_major": 2,
       "version_minor": 0
      },
      "text/plain": [
       "Dropdown(description='Search by: ', options=('Beds', 'TotalBldg_GSF'), value='Beds')"
      ]
     },
     "metadata": {},
     "output_type": "display_data"
    },
    {
     "data": {
      "application/vnd.jupyter.widget-view+json": {
       "model_id": "d65357b8159f49a38f82a9310d2f5e5f",
       "version_major": 2,
       "version_minor": 0
      },
      "text/plain": [
       "Dropdown(description='Tab: ', options=('D&T', 'OutPatient'), value='D&T')"
      ]
     },
     "metadata": {},
     "output_type": "display_data"
    },
    {
     "data": {
      "application/vnd.jupyter.widget-view+json": {
       "model_id": "050bcd30a9d345bd9b60211114938663",
       "version_major": 2,
       "version_minor": 0
      },
      "text/plain": [
       "SelectMultiple(description='Department: ', options=('Radiology', 'Surgery', 'Endoscopy', 'Emergency Dept.', 'L…"
      ]
     },
     "metadata": {},
     "output_type": "display_data"
    },
    {
     "data": {
      "application/vnd.jupyter.widget-view+json": {
       "model_id": "cd1ec38d0bc544a986db6983e52cc822",
       "version_major": 2,
       "version_minor": 0
      },
      "text/plain": [
       "FloatText(value=0.0, description='Query: ', step=100.0)"
      ]
     },
     "metadata": {},
     "output_type": "display_data"
    },
    {
     "data": {
      "application/vnd.jupyter.widget-view+json": {
       "model_id": "7a1bc764ce7f421b821ff4b866539436",
       "version_major": 2,
       "version_minor": 0
      },
      "text/plain": [
       "Output()"
      ]
     },
     "metadata": {},
     "output_type": "display_data"
    }
   ],
   "source": [
    "s=wg.Dropdown(options=['Beds', 'TotalBldg_GSF'], description='Search by: ')\n",
    "display(s)\n",
    "\n",
    "s1=wg.Dropdown(options=df['Cat_Major'].unique(), description='Tab: ')\n",
    "display(s1)\n",
    "\n",
    "s2 = wg.SelectMultiple(\n",
    "    options=df['Cat_Minor'].unique(),\n",
    "    rows=10,\n",
    "    description='Department: ',\n",
    "    disabled=False\n",
    ")\n",
    "\n",
    "display(s2)\n",
    "\n",
    "s3 = wg.FloatText(\n",
    "    max='10000',\n",
    "    step='100',\n",
    "    description='Query: '\n",
    ")\n",
    "display(s3)\n",
    "\n",
    "# display(nn,pp)\n",
    "# mylink = wg.jslink((nn,'value'),(pp,'value'))\n",
    "# pp.max='10000'\n",
    "# pp2.step='100'\n",
    "\n",
    "out = wg.Output()\n",
    "display(out)\n",
    "\n",
    "def response(change):\n",
    "    with out:\n",
    "        clear_output(wait=True)\n",
    "        if s.value == 'Beds':\n",
    "            xT = 'Number of Beds'\n",
    "        else:\n",
    "            xT = 'Area'\n",
    "\n",
    "        df2 = df[s.value].value_counts()\n",
    "        df2 = df2.to_frame()\n",
    "        df3 = df2.reset_index()\n",
    "        # df3['index'].iplot(kind=\"histogram\", bins=20, title=\"Number of projects undertaken\", xTitle=xT, yTitle='Count', theme='white', color='blue')\n",
    "        fig = px.histogram(df3, x=\"index\", nbins=20, template='none', color_discrete_sequence=px.colors.sequential.RdBu,\n",
    "                        labels={\n",
    "                             \"index\": xT\n",
    "                         },\n",
    "                        title=\"Number of projects undertaken till date\")\n",
    "        fig.show()\n",
    "        \n",
    "        df4 = df.loc[df['Cat_Minor'].isin(s2.value)]\n",
    "        # df4 = df.loc[df['Cat_Minor'].isin(s2.value) & df['Project'].isin(s3.value)]\n",
    "        # If you also want to filter out projects, this shows mean now\n",
    "        fig = px.pie(df4, values='Total_SF', names='Cat_Minor', title='Area Allocation (Mean)', hole=.5, color_discrete_sequence=px.colors.sequential.RdBu)\n",
    "        fig.show()\n",
    "        df5 = df4[['Cat_Minor', 'Total_SF']]\n",
    "        df6 = df5.groupby(['Cat_Minor'], as_index=False).sum()\n",
    "        df6 = df6.style.set_properties(**{'text-align': 'left'})\n",
    "\n",
    "s.observe(response, names=\"value\")\n",
    "s1.observe(response, names=\"value\")\n",
    "s2.observe(response, names=\"value\")\n",
    "s3.observe(response, names=\"value\")"
   ]
  },
  {
   "cell_type": "code",
   "execution_count": null,
   "metadata": {},
   "outputs": [],
   "source": []
  }
 ],
 "metadata": {
  "kernelspec": {
   "display_name": "Python 3",
   "language": "python",
   "name": "python3"
  },
  "language_info": {
   "codemirror_mode": {
    "name": "ipython",
    "version": 3
   },
   "file_extension": ".py",
   "mimetype": "text/x-python",
   "name": "python",
   "nbconvert_exporter": "python",
   "pygments_lexer": "ipython3",
   "version": "3.8.5"
  }
 },
 "nbformat": 4,
 "nbformat_minor": 4
}
